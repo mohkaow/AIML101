{
  "nbformat": 4,
  "nbformat_minor": 0,
  "metadata": {
    "colab": {
      "name": "103_sql_example.ipynb",
      "provenance": [],
      "collapsed_sections": [],
      "toc_visible": true,
      "include_colab_link": true
    },
    "kernelspec": {
      "name": "python3",
      "display_name": "Python 3"
    },
    "accelerator": "GPU"
  },
  "cells": [
    {
      "cell_type": "markdown",
      "metadata": {
        "id": "view-in-github",
        "colab_type": "text"
      },
      "source": [
        "<a href=\"https://colab.research.google.com/github/mohkaow/AIML101/blob/master/103_sql_example.ipynb\" target=\"_parent\"><img src=\"https://colab.research.google.com/assets/colab-badge.svg\" alt=\"Open In Colab\"/></a>"
      ]
    },
    {
      "cell_type": "markdown",
      "metadata": {
        "id": "0h4Srum9Rntj",
        "colab_type": "text"
      },
      "source": [
        "<img height=\"45px\" src=\"https://avatars3.githubusercontent.com/u/20337240?s=460&v=4\" align=\"left\" hspace=\"10px\" vspace=\"0px\">\n",
        "\n",
        "# สรุปภาษา SQL \n",
        "<h2>ฉบับนักเขียนโปรแกรม </h2>\n",
        "\n",
        "<a href='https://www.facebook.com/programmerthai'><font color='green'>สรุปและเรียบเรียงโดยโปรแกรมเมอร์ไทย thai programmer</font></a>\n",
        "\n",
        "\n",
        "* ตัวอย่างโค้ดจะใช้ภาษา Python\n",
        "* ส่วนฐานข้อมูลคือ SQLite\n",
        "\n",
        "\n",
        "<hr>\n"
      ]
    },
    {
      "cell_type": "markdown",
      "metadata": {
        "id": "2BdFnlcBW7An",
        "colab_type": "text"
      },
      "source": [
        "# วิธีใช้งาน colab\n",
        "\n",
        "Colab พัฒนาโดย google เป็นหน้าเว็บเอาไว้ใช้เขียนโค้ด python ได้ผ่านทางหน้าเว็บ และเชื่อมต่อกับ google drive ของเราก็ได้ด้วย ซึ่งอยากให้ดูวิธีการใช้งาน colab เสียก่อน"
      ]
    },
    {
      "cell_type": "markdown",
      "metadata": {
        "id": "CQ4ih8rxXBis",
        "colab_type": "text"
      },
      "source": [
        "<h3>กด Save a copy in Drive ... เพื่อบันทึกไว้ google drive เครื่องเรา</h3>\n",
        "\n",
        "(ต้องมี Gmail และ google drive)\n",
        "\n",
        "<img height=\"300px\" src=\"https://www.patanasongsivilai.com/blog/wp-content/uploads/2019/11/python_matayom_1.png\" align=\"left\" hspace=\"10px\" vspace=\"0px\">\n",
        "\n",
        "<img height=\"200px\" src=\"https://www.patanasongsivilai.com/blog/wp-content/uploads/2019/11/python_matayom_2.png\" align=\"left\" hspace=\"10px\" vspace=\"0px\">\n",
        "\n",
        "\n",
        "<img height=\"200px\" src=\"https://www.patanasongsivilai.com/blog/wp-content/uploads/2019/11/python_matayom_3.png\" align=\"left\" hspace=\"10px\" vspace=\"0px\">"
      ]
    },
    {
      "cell_type": "markdown",
      "metadata": {
        "id": "8Q4zpW4LhFrY",
        "colab_type": "text"
      },
      "source": [
        "# สร้างฟังก์ชัน Utility \n",
        "\n",
        "จะเอาไว้ใชในตัวโค้ด\n",
        "\n",
        "\n",
        "---\n",
        "\n"
      ]
    },
    {
      "cell_type": "markdown",
      "metadata": {
        "id": "b5BVeaUEiLur",
        "colab_type": "text"
      },
      "source": [
        "**ใช้มอดูล Pandas**"
      ]
    },
    {
      "cell_type": "code",
      "metadata": {
        "id": "sNbN8OrOiK0a",
        "colab_type": "code",
        "colab": {}
      },
      "source": [
        "import numpy as np\n",
        "import pandas as pd  \n",
        "\n",
        "from IPython.core.display import display, HTML\n",
        "\n",
        "display(HTML(\"<style>.container { width:90% !important; }</style>\"))\n",
        "pd.options.display.max_columns = 999\n",
        "pd.options.display.max_rows = 999"
      ],
      "execution_count": 0,
      "outputs": []
    },
    {
      "cell_type": "code",
      "metadata": {
        "id": "8owtMKVehLgu",
        "colab_type": "code",
        "colab": {}
      },
      "source": [
        "def get_data(cursor):\n",
        "  all_rows = []\n",
        "  [all_rows.append(np.array(row)) for row in cursor]\n",
        "  column_names = [description[0] for description in cursor.description]\n",
        "  return all_rows, column_names"
      ],
      "execution_count": 0,
      "outputs": []
    },
    {
      "cell_type": "code",
      "metadata": {
        "id": "-TijHuR_iG6t",
        "colab_type": "code",
        "colab": {}
      },
      "source": [
        "def show_data(data, column_names):  \n",
        "  df = pd.DataFrame(data, columns = column_names) # Create the pandas DataFrame \n",
        "  print(df.to_string(index=False))\n",
        "  "
      ],
      "execution_count": 0,
      "outputs": []
    },
    {
      "cell_type": "markdown",
      "metadata": {
        "id": "dubt0bGaRwWU",
        "colab_type": "text"
      },
      "source": [
        "# เชื่อมต่อฐานข้อมูล (Connect to Database)\n",
        "\n",
        "\n",
        "---\n",
        "\n",
        "\n",
        "\n"
      ]
    },
    {
      "cell_type": "code",
      "metadata": {
        "id": "R6iwvf90svWe",
        "colab_type": "code",
        "colab": {}
      },
      "source": [
        "import sqlite3\n",
        "\n",
        "conn = sqlite3.connect('test.db')\n",
        "print(\"Opened database successfully\")\n",
        "conn.close()"
      ],
      "execution_count": 0,
      "outputs": []
    },
    {
      "cell_type": "markdown",
      "metadata": {
        "id": "HPVYCE3YSDLv",
        "colab_type": "text"
      },
      "source": [
        "# สร้าง Table (Create a Table)\n",
        "\n",
        "\n",
        "---\n",
        "\n"
      ]
    },
    {
      "cell_type": "code",
      "metadata": {
        "id": "lKzBNYe9SBsx",
        "colab_type": "code",
        "colab": {}
      },
      "source": [
        "conn = sqlite3.connect('test.db')\n",
        "\n",
        "with conn:\n",
        "  conn.execute('''CREATE TABLE COMPANY\n",
        "         (ID INT PRIMARY KEY     NOT NULL,\n",
        "         NAME           TEXT    NOT NULL,\n",
        "         AGE            INT     NOT NULL,\n",
        "         ADDRESS        CHAR(50),\n",
        "         SALARY         REAL)''')\n",
        "\n",
        "conn.close() \n",
        "print(\"Table created successfully\")"
      ],
      "execution_count": 0,
      "outputs": []
    },
    {
      "cell_type": "markdown",
      "metadata": {
        "id": "0HtpWBgOSVQB",
        "colab_type": "text"
      },
      "source": [
        "# แทรกข้อมูล (INSERT Query)\n",
        "\n",
        "\n",
        "---\n",
        "\n"
      ]
    },
    {
      "cell_type": "code",
      "metadata": {
        "id": "_uwdSmr_SMNR",
        "colab_type": "code",
        "colab": {}
      },
      "source": [
        "conn = sqlite3.connect('test.db')\n",
        "\n",
        "with conn:\n",
        "  conn.execute(\"INSERT INTO COMPANY (ID,NAME,AGE,ADDRESS,SALARY) \\\n",
        "      VALUES (1, 'Paul', 32, 'California', 20000.00 )\");\n",
        "\n",
        "  conn.execute(\"INSERT INTO COMPANY (ID,NAME,AGE,ADDRESS,SALARY) \\\n",
        "      VALUES (2, 'Allen', 25, 'Texas', 15000.00 )\");\n",
        "\n",
        "  conn.execute(\"INSERT INTO COMPANY (ID,NAME,AGE,ADDRESS,SALARY) \\\n",
        "      VALUES (3, 'Teddy', 23, 'Norway', 20000.00 )\");\n",
        "\n",
        "  conn.execute(\"INSERT INTO COMPANY (ID,NAME,AGE,ADDRESS,SALARY) \\\n",
        "      VALUES (4, 'Mark', 25, 'Rich-Mond ', 65000.00 )\");\n",
        "\n",
        "  conn.execute(\"INSERT INTO COMPANY (ID,NAME,AGE,ADDRESS,SALARY) \\\n",
        "      VALUES (5, 'David', 27, 'Texas', 85000.00 )\")\n",
        "\n",
        "  conn.execute(\"INSERT INTO COMPANY (ID,NAME,AGE,ADDRESS,SALARY) \\\n",
        "      VALUES (6, 'Kim', 22, 'South-Hall', 45000.00 )\")\n",
        "  #conn.commit()\n",
        "\n",
        "conn.close() \n",
        "print(\"Records created successfully\")"
      ],
      "execution_count": 0,
      "outputs": []
    },
    {
      "cell_type": "markdown",
      "metadata": {
        "id": "5EUgPjIDu90l",
        "colab_type": "text"
      },
      "source": [
        "**หรือจะเขียนสั้นๆ แบบนี้ก็ได้ (เมื่อต้องแทรกทุก fields)**"
      ]
    },
    {
      "cell_type": "code",
      "metadata": {
        "id": "454KFl27vCF1",
        "colab_type": "code",
        "colab": {}
      },
      "source": [
        "conn = sqlite3.connect('test.db')\n",
        "\n",
        "with conn:\n",
        "  conn.execute(\"INSERT INTO COMPANY VALUES (7, 'James', 24, 'Houston', 10000.00)\")\n",
        "  conn.execute(\"INSERT INTO COMPANY VALUES (8, 'Paul', 24, 'Houston', 20000.00)\")\n",
        "  conn.execute(\"INSERT INTO COMPANY VALUES (9, 'James', 44, 'Norway', 5000.00)\")\n",
        "  #conn.commit()\n",
        "\n",
        "conn.close() \n",
        "print(\"Records created successfully\")"
      ],
      "execution_count": 0,
      "outputs": []
    },
    {
      "cell_type": "markdown",
      "metadata": {
        "id": "fmJcGv2Ea9At",
        "colab_type": "text"
      },
      "source": [
        "# แก้ไขตาราง (ALTER)"
      ]
    },
    {
      "cell_type": "markdown",
      "metadata": {
        "id": "uBbpsz61bhE8",
        "colab_type": "text"
      },
      "source": [
        "## ตัวอย่างเปลี่ยนชื่อ Table"
      ]
    },
    {
      "cell_type": "code",
      "metadata": {
        "id": "lJKJrVXIbbGQ",
        "colab_type": "code",
        "colab": {}
      },
      "source": [
        "conn = sqlite3.connect('test.db')\n",
        "\n",
        "with conn:\n",
        "  cursor = conn.execute(\"ALTER TABLE COMPANY RENAME TO OLD_COMPANY\")\n",
        "\n",
        "conn.close() \n",
        "print(\"Operation done successfully\")"
      ],
      "execution_count": 0,
      "outputs": []
    },
    {
      "cell_type": "markdown",
      "metadata": {
        "id": "wKQAYaq_b2kS",
        "colab_type": "text"
      },
      "source": [
        "## ตัวอย่างเพิ่มคอลัมน์"
      ]
    },
    {
      "cell_type": "code",
      "metadata": {
        "id": "Sdf7Bv_BbxG4",
        "colab_type": "code",
        "colab": {}
      },
      "source": [
        "conn = sqlite3.connect('test.db')\n",
        "\n",
        "with conn:\n",
        "  cursor = conn.execute(\"ALTER TABLE OLD_COMPANY ADD COLUMN SEX char(1)\")\n",
        "\n",
        "conn.close() \n",
        "print(\"Operation done successfully\")"
      ],
      "execution_count": 0,
      "outputs": []
    },
    {
      "cell_type": "markdown",
      "metadata": {
        "id": "QxKiorNdb5xC",
        "colab_type": "text"
      },
      "source": [
        "## ลองคิวรี่ดูข้อมูล"
      ]
    },
    {
      "cell_type": "code",
      "metadata": {
        "id": "-CYx4hF2cFma",
        "colab_type": "code",
        "colab": {}
      },
      "source": [
        "conn = sqlite3.connect('test.db')\n",
        "\n",
        "with conn:\n",
        "  cursor = conn.execute(\"SELECT * FROM OLD_COMPANY\")\n",
        "  rows, column_names = get_data(cursor)\n",
        "\n",
        "conn.close() \n",
        "print(\"Operation done successfully\")\n",
        "show_data(rows, column_names)"
      ],
      "execution_count": 0,
      "outputs": []
    },
    {
      "cell_type": "markdown",
      "metadata": {
        "id": "AqebxnVUQxT4",
        "colab_type": "text"
      },
      "source": [
        "# ทิ้ง Table (Drop Table)\n",
        "\n",
        "\n",
        "---\n",
        "\n"
      ]
    },
    {
      "cell_type": "code",
      "metadata": {
        "id": "19-yAyAXRCMI",
        "colab_type": "code",
        "colab": {}
      },
      "source": [
        "conn = sqlite3.connect('test.db')\n",
        "\n",
        "with conn:\n",
        "  conn.execute(\"DROP table OLD_COMPANY\")\n",
        "\n",
        "conn.close() \n",
        "print(\"Table dropped successfully\")"
      ],
      "execution_count": 0,
      "outputs": []
    },
    {
      "cell_type": "markdown",
      "metadata": {
        "id": "1gUzfOBW7PTv",
        "colab_type": "text"
      },
      "source": [
        "# AUTOINCREMENT "
      ]
    },
    {
      "cell_type": "markdown",
      "metadata": {
        "id": "nDViecuj9ixW",
        "colab_type": "text"
      },
      "source": [
        "ตัวอย่างสร้าง TABLE ชื่อ COMPANY ขึ้นมาใหม่ โดยให้ PRIMARY KEY เพิ่มเองอัตโนมัติ"
      ]
    },
    {
      "cell_type": "code",
      "metadata": {
        "id": "fAKc27xJ7R0a",
        "colab_type": "code",
        "colab": {}
      },
      "source": [
        "conn = sqlite3.connect('test.db')\n",
        "\n",
        "with conn:\n",
        "  conn.execute('''CREATE TABLE COMPANY\n",
        "        (ID INTEGER PRIMARY KEY AUTOINCREMENT,\n",
        "         NAME           TEXT    NOT NULL,\n",
        "         AGE            INT     NOT NULL,\n",
        "         ADDRESS        CHAR(50),\n",
        "         SALARY         REAL)''')\n",
        "\n",
        "conn.close()   \n",
        "print(\"Table created successfully\")"
      ],
      "execution_count": 0,
      "outputs": []
    },
    {
      "cell_type": "markdown",
      "metadata": {
        "id": "i0Y16dJO8g1F",
        "colab_type": "text"
      },
      "source": [
        "**เพิ่มข้อมูลลงไปในตาราง COMPANY ใหม่อีกครั้ง โดยไม่ต้องระบุ PRIMARY KEY**"
      ]
    },
    {
      "cell_type": "code",
      "metadata": {
        "id": "AEm3DYjP8gF5",
        "colab_type": "code",
        "colab": {}
      },
      "source": [
        "conn = sqlite3.connect('test.db')\n",
        "\n",
        "with conn:\n",
        "  conn.execute(\"INSERT INTO COMPANY (NAME,AGE,ADDRESS,SALARY)\\\n",
        "             VALUES ('Paul', 32, 'California', 20000.00 )\")\n",
        "\n",
        "  conn.execute(\"INSERT INTO COMPANY (NAME,AGE,ADDRESS,SALARY)\\\n",
        "            VALUES ('Allen', 25, 'Texas', 15000.00 )\")\n",
        "\n",
        "  conn.execute(\"INSERT INTO COMPANY (NAME,AGE,ADDRESS,SALARY)\\\n",
        "            VALUES ('Teddy', 23, 'Norway', 20000.00 )\")\n",
        "\n",
        "  conn.execute(\"INSERT INTO COMPANY (NAME,AGE,ADDRESS,SALARY)\\\n",
        "            VALUES ('Mark', 25, 'Rich-Mond ', 65000.00 )\")\n",
        "\n",
        "  conn.execute(\"INSERT INTO COMPANY (NAME,AGE,ADDRESS,SALARY)\\\n",
        "            VALUES ('David', 27, 'Texas', 85000.00 )\")\n",
        "\n",
        "  conn.execute(\"INSERT INTO COMPANY (NAME,AGE,ADDRESS,SALARY)\\\n",
        "            VALUES ('Kim', 22, 'South-Hall', 45000.00 )\")\n",
        "\n",
        "  conn.execute(\"INSERT INTO COMPANY (NAME,AGE,ADDRESS,SALARY)\\\n",
        "            VALUES ('James', 24, 'Houston', 10000.00)\")\n",
        "\n",
        "  conn.execute(\"INSERT INTO COMPANY (NAME,AGE,ADDRESS,SALARY)\\\n",
        "            VALUES ('Paul', 24, 'Houston', 20000.00)\")\n",
        "\n",
        "  conn.execute(\"INSERT INTO COMPANY (NAME,AGE,ADDRESS,SALARY)\\\n",
        "            VALUES ('James', 44, 'Norway', 5000.00)\")\n",
        "  #conn.commit()\n",
        "\n",
        "print(\"Records created successfully\")"
      ],
      "execution_count": 0,
      "outputs": []
    },
    {
      "cell_type": "markdown",
      "metadata": {
        "id": "dTobge15SzjO",
        "colab_type": "text"
      },
      "source": [
        "# ค้นหาข้อมูล (SELECT Query)\n",
        "\n",
        "\n",
        "---\n",
        "\n"
      ]
    },
    {
      "cell_type": "markdown",
      "metadata": {
        "id": "GCENLpYlyBRV",
        "colab_type": "text"
      },
      "source": [
        "**ใช้ฟังก์ชัน Utility ที่เตรียมไว้ให้ เพื่อแสดงข้อมูลจากการคิวรี่ดีกว่า**"
      ]
    },
    {
      "cell_type": "code",
      "metadata": {
        "id": "G_9AUqdEdzJw",
        "colab_type": "code",
        "colab": {}
      },
      "source": [
        "conn = sqlite3.connect('test.db')\n",
        "\n",
        "cursor = conn.execute(\"SELECT id, name, address, salary from COMPANY\")\n",
        "rows, column_names = get_data(cursor)\n",
        "\n",
        "conn.close() \n",
        "print(\"Operation done successfully\")\n",
        "show_data(rows, column_names) "
      ],
      "execution_count": 0,
      "outputs": []
    },
    {
      "cell_type": "markdown",
      "metadata": {
        "id": "sI_WfcU1Tt9Q",
        "colab_type": "text"
      },
      "source": [
        "# ประโยค WHERE (WHERE Clause)"
      ]
    },
    {
      "cell_type": "markdown",
      "metadata": {
        "id": "wXpbIblmVmfr",
        "colab_type": "text"
      },
      "source": [
        "## ตัวอย่างใช้ operator เป็น AND"
      ]
    },
    {
      "cell_type": "code",
      "metadata": {
        "id": "IQ9CMcO1Uirj",
        "colab_type": "code",
        "colab": {}
      },
      "source": [
        "conn = sqlite3.connect('test.db')\n",
        "\n",
        "cursor = conn.execute(\"SELECT * FROM COMPANY WHERE AGE >= 25 AND SALARY >= 65000\")\n",
        "rows, column_names = get_data(cursor)\n",
        "\n",
        "conn.close() \n",
        "print(\"Operation done successfully\")\n",
        "show_data(rows, column_names) "
      ],
      "execution_count": 0,
      "outputs": []
    },
    {
      "cell_type": "markdown",
      "metadata": {
        "id": "F92RIvIbVrtv",
        "colab_type": "text"
      },
      "source": [
        "## ตัวอย่างใช้ operator เป็น OR\n",
        "\n",
        "\n"
      ]
    },
    {
      "cell_type": "code",
      "metadata": {
        "id": "-52ZMmqrUlZf",
        "colab_type": "code",
        "colab": {}
      },
      "source": [
        "conn = sqlite3.connect('test.db')\n",
        "\n",
        "cursor = conn.execute(\"SELECT * FROM COMPANY WHERE AGE >= 25 OR SALARY >= 65000\")\n",
        "rows, column_names = get_data(cursor)\n",
        "\n",
        "conn.close() \n",
        "print(\"Operation done successfully\")\n",
        "show_data(rows, column_names) "
      ],
      "execution_count": 0,
      "outputs": []
    },
    {
      "cell_type": "markdown",
      "metadata": {
        "id": "hZgAQdvUwGUa",
        "colab_type": "text"
      },
      "source": [
        "## ตัวอย่างใช้ประโยค IS NULL"
      ]
    },
    {
      "cell_type": "code",
      "metadata": {
        "id": "UCpEwjniwR8C",
        "colab_type": "code",
        "colab": {}
      },
      "source": [
        "conn = sqlite3.connect('test.db')\n",
        "\n",
        "cursor = conn.execute(\"SELECT * FROM COMPANY WHERE SALARY IS NULL\")\n",
        "rows, column_names = get_data(cursor)\n",
        "\n",
        "conn.close() \n",
        "print(\"Operation done successfully\")\n",
        "show_data(rows, column_names) "
      ],
      "execution_count": 0,
      "outputs": []
    },
    {
      "cell_type": "markdown",
      "metadata": {
        "id": "pXII6DAKVyUc",
        "colab_type": "text"
      },
      "source": [
        "## ตัวอย่างใช้ประโยค IS NOT NULL"
      ]
    },
    {
      "cell_type": "code",
      "metadata": {
        "id": "VvVwSZyfUp4l",
        "colab_type": "code",
        "colab": {}
      },
      "source": [
        "conn = sqlite3.connect('test.db')\n",
        "\n",
        "cursor = conn.execute(\"SELECT * FROM COMPANY WHERE AGE IS NOT NULL\")\n",
        "rows, column_names = get_data(cursor)\n",
        "\n",
        "conn.close() \n",
        "print(\"Operation done successfully\")\n",
        "show_data(rows, column_names) "
      ],
      "execution_count": 0,
      "outputs": []
    },
    {
      "cell_type": "markdown",
      "metadata": {
        "id": "NA065cJtpg3G",
        "colab_type": "text"
      },
      "source": [
        "## ตัวอย่างใช้ประโยค LIKE "
      ]
    },
    {
      "cell_type": "code",
      "metadata": {
        "id": "WfBt42qkpe4N",
        "colab_type": "code",
        "colab": {}
      },
      "source": [
        "conn = sqlite3.connect('test.db')\n",
        "\n",
        "cursor = conn.execute(\"SELECT * FROM COMPANY WHERE age LIKE '2%'\")\n",
        "rows, column_names = get_data(cursor)\n",
        "\n",
        "conn.close() \n",
        "print(\"Operation done successfully\")\n",
        "show_data(rows, column_names) "
      ],
      "execution_count": 0,
      "outputs": []
    },
    {
      "cell_type": "code",
      "metadata": {
        "id": "DdRjiumppqoY",
        "colab_type": "code",
        "colab": {}
      },
      "source": [
        "conn = sqlite3.connect('test.db')\n",
        "\n",
        "cursor = conn.execute(\"SELECT * FROM COMPANY WHERE ADDRESS  LIKE '%-%'\")\n",
        "rows, column_names = get_data(cursor)\n",
        "\n",
        "conn.close() \n",
        "print(\"Operation done successfully\")\n",
        "show_data(rows, column_names) "
      ],
      "execution_count": 0,
      "outputs": []
    },
    {
      "cell_type": "markdown",
      "metadata": {
        "id": "GtW_RyOjWP9A",
        "colab_type": "text"
      },
      "source": [
        "## ตัวอย่างใช้ประโยค GLOB"
      ]
    },
    {
      "cell_type": "code",
      "metadata": {
        "id": "vaXZ5-9FTzOk",
        "colab_type": "code",
        "colab": {}
      },
      "source": [
        "conn = sqlite3.connect('test.db')\n",
        "\n",
        "cursor = conn.execute(\"SELECT * FROM COMPANY WHERE NAME GLOB 'Ki*'\")\n",
        "rows, column_names = get_data(cursor)\n",
        "\n",
        "conn.close() \n",
        "print(\"Operation done successfully\")\n",
        "show_data(rows, column_names) "
      ],
      "execution_count": 0,
      "outputs": []
    },
    {
      "cell_type": "markdown",
      "metadata": {
        "id": "5DrZTtF_XXxD",
        "colab_type": "text"
      },
      "source": [
        "## ตัวอย่างใช้ operator เป็น  IN"
      ]
    },
    {
      "cell_type": "code",
      "metadata": {
        "id": "WkhKPWrJU9Az",
        "colab_type": "code",
        "colab": {}
      },
      "source": [
        "conn = sqlite3.connect('test.db')\n",
        "\n",
        "cursor = conn.execute(\"SELECT * FROM COMPANY WHERE AGE IN ( 25, 27 )\")\n",
        "rows, column_names = get_data(cursor)\n",
        "\n",
        "conn.close() \n",
        "print(\"Operation done successfully\")\n",
        "show_data(rows, column_names) "
      ],
      "execution_count": 0,
      "outputs": []
    },
    {
      "cell_type": "markdown",
      "metadata": {
        "id": "QoV84m_AXkcs",
        "colab_type": "text"
      },
      "source": [
        "## ตัวอย่างใช้ operator เป็น NOT IN"
      ]
    },
    {
      "cell_type": "code",
      "metadata": {
        "id": "SDiZPWnEU_ed",
        "colab_type": "code",
        "colab": {}
      },
      "source": [
        "conn = sqlite3.connect('test.db')\n",
        "\n",
        "cursor = conn.execute(\"SELECT * FROM COMPANY WHERE AGE NOT IN ( 25, 27 )\")\n",
        "rows, column_names = get_data(cursor)\n",
        "\n",
        "conn.close() \n",
        "print(\"Operation done successfully\")\n",
        "show_data(rows, column_names) "
      ],
      "execution_count": 0,
      "outputs": []
    },
    {
      "cell_type": "markdown",
      "metadata": {
        "id": "4cNaEmOXXtod",
        "colab_type": "text"
      },
      "source": [
        "## ตัวอย่างใช้ operator เป็น BETWEEN"
      ]
    },
    {
      "cell_type": "code",
      "metadata": {
        "id": "UdH0qa5MU8-v",
        "colab_type": "code",
        "colab": {}
      },
      "source": [
        "conn = sqlite3.connect('test.db')\n",
        "\n",
        "cursor = conn.execute(\"SELECT * FROM COMPANY WHERE AGE BETWEEN 25 AND 27\")\n",
        "rows, column_names = get_data(cursor)\n",
        "\n",
        "conn.close() \n",
        "print(\"Operation done successfully\")\n",
        "show_data(rows, column_names) "
      ],
      "execution_count": 0,
      "outputs": []
    },
    {
      "cell_type": "markdown",
      "metadata": {
        "id": "SbmzAme_YzPN",
        "colab_type": "text"
      },
      "source": [
        "## ตัวอย่างใช้ประโยค EXISTS"
      ]
    },
    {
      "cell_type": "code",
      "metadata": {
        "id": "a3h5EtRSYz47",
        "colab_type": "code",
        "colab": {}
      },
      "source": [
        "conn = sqlite3.connect('test.db')\n",
        "\n",
        "cursor = conn.execute(\"SELECT AGE FROM COMPANY\\\n",
        "   WHERE EXISTS (SELECT AGE FROM COMPANY WHERE SALARY > 65000);\")\n",
        "rows, column_names = get_data(cursor)\n",
        "\n",
        "conn.close() \n",
        "print(\"Operation done successfully\")\n",
        "show_data(rows, column_names)\n"
      ],
      "execution_count": 0,
      "outputs": []
    },
    {
      "cell_type": "markdown",
      "metadata": {
        "id": "3iSbNkiKZXvg",
        "colab_type": "text"
      },
      "source": [
        "## ตัวอย่างใช้ sub-query"
      ]
    },
    {
      "cell_type": "code",
      "metadata": {
        "id": "AY1FbUwWZbGH",
        "colab_type": "code",
        "colab": {}
      },
      "source": [
        "conn = sqlite3.connect('test.db')\n",
        "\n",
        "cursor = conn.execute(\"SELECT * FROM COMPANY \\\n",
        "   WHERE AGE > (SELECT AGE FROM COMPANY WHERE SALARY > 65000)\")\n",
        "rows, column_names = get_data(cursor)\n",
        "\n",
        "conn.close() \n",
        "print(\"Operation done successfully\")\n",
        "show_data(rows, column_names)\n"
      ],
      "execution_count": 0,
      "outputs": []
    },
    {
      "cell_type": "markdown",
      "metadata": {
        "id": "FqxFvw_xezLG",
        "colab_type": "text"
      },
      "source": [
        "# คำสั่ง DISTINCT "
      ]
    },
    {
      "cell_type": "markdown",
      "metadata": {
        "id": "taTvNsO9fh20",
        "colab_type": "text"
      },
      "source": [
        "**ก่อนใช้ DISTINCT**"
      ]
    },
    {
      "cell_type": "code",
      "metadata": {
        "id": "y-ZugsEdfeqO",
        "colab_type": "code",
        "colab": {}
      },
      "source": [
        "conn = sqlite3.connect('test.db')\n",
        "\n",
        "cursor = conn.execute(\"SELECT DISTINCT name FROM COMPANY\")\n",
        "rows, column_names = get_data(cursor)\n",
        "\n",
        "conn.close() \n",
        "print(\"Operation done successfully\")\n",
        "show_data(rows, column_names)"
      ],
      "execution_count": 0,
      "outputs": []
    },
    {
      "cell_type": "markdown",
      "metadata": {
        "id": "-HDuLEt9fkv6",
        "colab_type": "text"
      },
      "source": [
        "**หลังใช้ DISTINCT**"
      ]
    },
    {
      "cell_type": "code",
      "metadata": {
        "id": "V0Va7ClCe3vJ",
        "colab_type": "code",
        "colab": {}
      },
      "source": [
        "conn = sqlite3.connect('test.db')\n",
        "\n",
        "cursor = conn.execute(\"SELECT DISTINCT name FROM COMPANY\")\n",
        "rows, column_names = get_data(cursor)\n",
        "\n",
        "conn.close() \n",
        "print(\"Operation done successfully\")\n",
        "show_data(rows, column_names)"
      ],
      "execution_count": 0,
      "outputs": []
    },
    {
      "cell_type": "markdown",
      "metadata": {
        "id": "R9IOGQRcbUmJ",
        "colab_type": "text"
      },
      "source": [
        "# ประโยค LIMIT (LIMIT Clause)"
      ]
    },
    {
      "cell_type": "markdown",
      "metadata": {
        "id": "aGgctigZbyrL",
        "colab_type": "text"
      },
      "source": [
        "## ตัวอย่างใช้ LIMIT"
      ]
    },
    {
      "cell_type": "code",
      "metadata": {
        "id": "4uXSXCUSbZ-Q",
        "colab_type": "code",
        "colab": {}
      },
      "source": [
        "conn = sqlite3.connect('test.db')\n",
        "\n",
        "cursor = conn.execute(\"SELECT * FROM COMPANY LIMIT 6\")\n",
        "rows, column_names = get_data(cursor)\n",
        "\n",
        "conn.close() \n",
        "print(\"Operation done successfully\")\n",
        "show_data(rows, column_names)"
      ],
      "execution_count": 0,
      "outputs": []
    },
    {
      "cell_type": "markdown",
      "metadata": {
        "id": "yp0-7ttDciG3",
        "colab_type": "text"
      },
      "source": [
        "## ตัวอย่างใช้ OFFSET ร่วมเดียว"
      ]
    },
    {
      "cell_type": "code",
      "metadata": {
        "id": "csWNkxbRbWkC",
        "colab_type": "code",
        "colab": {}
      },
      "source": [
        "conn = sqlite3.connect('test.db')\n",
        "\n",
        "cursor = conn.execute(\"SELECT * FROM COMPANY LIMIT 3 OFFSET 2\")\n",
        "rows, column_names = get_data(cursor)\n",
        "\n",
        "conn.close() \n",
        "print(\"Operation done successfully\")\n",
        "show_data(rows, column_names)"
      ],
      "execution_count": 0,
      "outputs": []
    },
    {
      "cell_type": "markdown",
      "metadata": {
        "id": "MVr19MGqTWJu",
        "colab_type": "text"
      },
      "source": [
        "# อัพเพตข้อมูล (UPDATE Query)\n",
        "\n",
        "\n",
        "---\n",
        "\n"
      ]
    },
    {
      "cell_type": "code",
      "metadata": {
        "id": "Xodur_exTdjC",
        "colab_type": "code",
        "colab": {}
      },
      "source": [
        "conn = sqlite3.connect('test.db')\n",
        "\n",
        "with conn:\n",
        "  conn.execute(\"UPDATE COMPANY set SALARY = 25000.00 where ID = 1\")  \n",
        "  print(\"Total number of rows updated :\", conn.total_changes)\n",
        "\n",
        "conn.close()\n",
        "print(\"Operation done successfully\");"
      ],
      "execution_count": 0,
      "outputs": []
    },
    {
      "cell_type": "markdown",
      "metadata": {
        "id": "SEXZLVfzj47B",
        "colab_type": "text"
      },
      "source": [
        "แสดงข้อมูลใน table หลังแก้ไข"
      ]
    },
    {
      "cell_type": "code",
      "metadata": {
        "id": "9fOICK_Ij19z",
        "colab_type": "code",
        "colab": {}
      },
      "source": [
        "conn = sqlite3.connect('test.db')\n",
        "\n",
        "cursor = conn.execute(\"SELECT id, name, address, salary from COMPANY\")\n",
        "rows, column_names = get_data(cursor)\n",
        "\n",
        "conn.close()\n",
        "print(\"Operation done successfully\");\n",
        "show_data(rows, column_names)"
      ],
      "execution_count": 0,
      "outputs": []
    },
    {
      "cell_type": "markdown",
      "metadata": {
        "id": "J5V4Wu5oUfDs",
        "colab_type": "text"
      },
      "source": [
        "# ลบ Record (DELETE Query)\n",
        "\n",
        "\n",
        "---\n",
        "\n"
      ]
    },
    {
      "cell_type": "markdown",
      "metadata": {
        "id": "sS8LDc-iVrZ9",
        "colab_type": "text"
      },
      "source": [
        "**ตัวอย่างการลบ record ที่มี id = 2**"
      ]
    },
    {
      "cell_type": "code",
      "metadata": {
        "id": "LgeZ-0XnUjI9",
        "colab_type": "code",
        "colab": {}
      },
      "source": [
        "conn = sqlite3.connect('test.db')\n",
        "\n",
        "with conn:\n",
        "  conn.execute(\"DELETE from COMPANY where ID = 2\")\n",
        "  print(\"Total number of rows deleted :\", conn.total_changes)\n",
        "\n",
        "conn.close()    \n"
      ],
      "execution_count": 0,
      "outputs": []
    },
    {
      "cell_type": "markdown",
      "metadata": {
        "id": "LawqbMTbVvQu",
        "colab_type": "text"
      },
      "source": [
        "**ลองค้นหาข้อมูลใน Table ใหม่**"
      ]
    },
    {
      "cell_type": "code",
      "metadata": {
        "id": "RU2yB4rNQasj",
        "colab_type": "code",
        "colab": {}
      },
      "source": [
        "conn = sqlite3.connect('test.db')\n",
        "\n",
        "cursor = conn.execute(\"SELECT id, name, address, salary from COMPANY\")\n",
        "rows, column_names = get_data(cursor)\n",
        "\n",
        "conn.close()\n",
        "print(\"Operation done successfully\");\n",
        "show_data(rows, column_names)"
      ],
      "execution_count": 0,
      "outputs": []
    },
    {
      "cell_type": "markdown",
      "metadata": {
        "id": "FcQcQQffS18_",
        "colab_type": "text"
      },
      "source": [
        "# Commit กับ Rollback"
      ]
    },
    {
      "cell_type": "markdown",
      "metadata": {
        "id": "pFcewRWm-7U_",
        "colab_type": "text"
      },
      "source": [
        "## ตัวอย่างเรียกใช้ commit()"
      ]
    },
    {
      "cell_type": "code",
      "metadata": {
        "id": "Um4CqwMc-o5a",
        "colab_type": "code",
        "colab": {}
      },
      "source": [
        "conn = sqlite3.connect('test.db')\n",
        "\n",
        "conn.execute(\"INSERT INTO COMPANY (NAME,AGE,ADDRESS,SALARY)\\\n",
        "            VALUES ('Mana', 65, 'Thailand', 15000.00)\")\n",
        "conn.commit()\n",
        "conn.close()   \n",
        "print(\"Records created successfully\")"
      ],
      "execution_count": 0,
      "outputs": []
    },
    {
      "cell_type": "markdown",
      "metadata": {
        "id": "UZJ31bD-_BcB",
        "colab_type": "text"
      },
      "source": [
        "## ตัวอย่างเรียกใช้ rollback()"
      ]
    },
    {
      "cell_type": "code",
      "metadata": {
        "id": "1yB4MDSt_GsA",
        "colab_type": "code",
        "colab": {}
      },
      "source": [
        "conn = sqlite3.connect('test.db')\n",
        "\n",
        "conn.execute(\"INSERT INTO COMPANY (NAME,AGE,ADDRESS,SALARY)\\\n",
        "            VALUES ('Manee', 15, 'Thailand', 15000.00)\")\n",
        "conn.rollback()\n",
        "conn.close()   \n",
        "print(\"Table created successfully\")"
      ],
      "execution_count": 0,
      "outputs": []
    },
    {
      "cell_type": "markdown",
      "metadata": {
        "id": "7C-LSCX9_RKS",
        "colab_type": "text"
      },
      "source": [
        "**ลองคิวรี่ดูข้อมูล**"
      ]
    },
    {
      "cell_type": "code",
      "metadata": {
        "id": "1RZRJESx_Qig",
        "colab_type": "code",
        "colab": {}
      },
      "source": [
        "conn = sqlite3.connect('test.db')\n",
        "\n",
        "cursor = conn.execute(\"SELECT id, name, address, salary from COMPANY\")\n",
        "rows, column_names = get_data(cursor)\n",
        "\n",
        "conn.close() \n",
        "print(\"Operation done successfully\")\n",
        "show_data(rows, column_names) "
      ],
      "execution_count": 0,
      "outputs": []
    },
    {
      "cell_type": "markdown",
      "metadata": {
        "id": "540pRweL9jmp",
        "colab_type": "text"
      },
      "source": [
        "## เมื่อใช้ประโยค with\n",
        "* เมธอด commit() จะถูกเรียกอัตโนมัติหลังจากบล็อกทำงานเสร็จ\n",
        "* เมธอด rollback() จะถูกเรียกอัตโนมัติเมื่อเกิด exception"
      ]
    },
    {
      "cell_type": "code",
      "metadata": {
        "id": "3pj138j-S3qb",
        "colab_type": "code",
        "colab": {}
      },
      "source": [
        "conn = sqlite3.connect('test.db')\n",
        "\n",
        "# Successful, con.commit() is called automatically afterwards\n",
        "with conn:\n",
        "    conn.execute(\"DELETE FROM COMPANY WHERE AGE = 65\")\n",
        "    print(\"Total number of rows deleted :\", conn.total_changes)\n",
        "\n",
        "# con.rollback() is called after the with block finishes with an exception, the\n",
        "# exception is still raised and must be caught\n",
        "try:\n",
        "    with conn:\n",
        "        conn.execute(\"DELETE FROM COMPANY WHERE AGE = 65\")\n",
        "except sqlite3.IntegrityError:\n",
        "    print (\"couldn't delete twice\")\n",
        "\n",
        "conn.close()"
      ],
      "execution_count": 0,
      "outputs": []
    },
    {
      "cell_type": "markdown",
      "metadata": {
        "id": "4x_RDPc6zHBb",
        "colab_type": "text"
      },
      "source": [
        "# ประโยค ORDER BY "
      ]
    },
    {
      "cell_type": "markdown",
      "metadata": {
        "id": "8MwgTSl_dhvP",
        "colab_type": "text"
      },
      "source": [
        "## ตัวอย่างใช้ ASC"
      ]
    },
    {
      "cell_type": "code",
      "metadata": {
        "id": "xmkWBh0-zI5C",
        "colab_type": "code",
        "colab": {}
      },
      "source": [
        "conn = sqlite3.connect('test.db')\n",
        "\n",
        "cursor = conn.execute(\"SELECT * FROM COMPANY ORDER BY SALARY ASC\")\n",
        "rows, column_names = get_data(cursor)\n",
        "\n",
        "conn.close()\n",
        "print(\"Operation done successfully\")\n",
        "show_data(rows, column_names)"
      ],
      "execution_count": 0,
      "outputs": []
    },
    {
      "cell_type": "code",
      "metadata": {
        "id": "1a_uGoCizRUt",
        "colab_type": "code",
        "colab": {}
      },
      "source": [
        "conn = sqlite3.connect('test.db')\n",
        "\n",
        "cursor = conn.execute(\"SELECT * FROM COMPANY ORDER BY NAME, SALARY ASC\")\n",
        "rows, column_names = get_data(cursor)\n",
        "\n",
        "conn.close()\n",
        "print(\"Operation done successfully\")\n",
        "show_data(rows, column_names)\n"
      ],
      "execution_count": 0,
      "outputs": []
    },
    {
      "cell_type": "markdown",
      "metadata": {
        "id": "V2WcVjo3dqHH",
        "colab_type": "text"
      },
      "source": [
        "##  ตัวอย่างใช้ DESC"
      ]
    },
    {
      "cell_type": "code",
      "metadata": {
        "id": "4F8N-NJrzYZP",
        "colab_type": "code",
        "colab": {}
      },
      "source": [
        "conn = sqlite3.connect('test.db')\n",
        "\n",
        "cursor = conn.execute(\"SELECT * FROM COMPANY ORDER BY NAME DESC\")\n",
        "rows, column_names = get_data(cursor)\n",
        "\n",
        "conn.close()\n",
        "print(\"Operation done successfully\")\n",
        "show_data(rows, column_names)\n"
      ],
      "execution_count": 0,
      "outputs": []
    },
    {
      "cell_type": "markdown",
      "metadata": {
        "id": "wmCKjtcP6AX7",
        "colab_type": "text"
      },
      "source": [
        "# ประโยค GROUP BY"
      ]
    },
    {
      "cell_type": "markdown",
      "metadata": {
        "id": "WV9LwUau4j24",
        "colab_type": "text"
      },
      "source": [
        "**ตัวอย่างใช้ GROUP BY**"
      ]
    },
    {
      "cell_type": "code",
      "metadata": {
        "id": "HCKUjMEE5zKh",
        "colab_type": "code",
        "colab": {}
      },
      "source": [
        "conn = sqlite3.connect('test.db')\n",
        "\n",
        "cursor = conn.execute(\"SELECT NAME, SUM(SALARY) FROM COMPANY GROUP BY NAME\")\n",
        "rows, column_names = get_data(cursor)\n",
        "\n",
        "conn.close()\n",
        "print(\"Operation done successfully\")\n",
        "show_data(rows, column_names)"
      ],
      "execution_count": 0,
      "outputs": []
    },
    {
      "cell_type": "markdown",
      "metadata": {
        "id": "Wm08y-ia4gcK",
        "colab_type": "text"
      },
      "source": [
        "**ตัวอย่างใช้ GROUP BY ร่วมกับ ORDER BY**"
      ]
    },
    {
      "cell_type": "code",
      "metadata": {
        "id": "F_bBFEu17cPv",
        "colab_type": "code",
        "colab": {}
      },
      "source": [
        "conn = sqlite3.connect('test.db')\n",
        "\n",
        "cursor = conn.execute(\"SELECT NAME, SUM(SALARY) FROM COMPANY GROUP BY NAME ORDER BY NAME\")\n",
        "rows, column_names = get_data(cursor)\n",
        "\n",
        "conn.close()\n",
        "print(\"Operation done successfully\")\n",
        "show_data(rows, column_names)"
      ],
      "execution_count": 0,
      "outputs": []
    },
    {
      "cell_type": "markdown",
      "metadata": {
        "id": "YDHHM6eZ4SlL",
        "colab_type": "text"
      },
      "source": [
        "**ตัวอย่างใช้ GROUP BY ร่วมกับ ORDER BY และ DESC**"
      ]
    },
    {
      "cell_type": "code",
      "metadata": {
        "id": "b6plgEje8RDi",
        "colab_type": "code",
        "colab": {}
      },
      "source": [
        "conn = sqlite3.connect('test.db')\n",
        "\n",
        "cursor = conn.execute(\"SELECT NAME, SUM(SALARY) FROM COMPANY GROUP BY NAME ORDER BY NAME DESC\")\n",
        "rows, column_names = get_data(cursor)\n",
        "\n",
        "conn.close()\n",
        "print(\"Operation done successfully\")\n",
        "show_data(rows, column_names)"
      ],
      "execution_count": 0,
      "outputs": []
    },
    {
      "cell_type": "markdown",
      "metadata": {
        "id": "BB_pYIIacbOn",
        "colab_type": "text"
      },
      "source": [
        "# ประโยค Having\n",
        "\n",
        "\n",
        "---\n",
        "\n"
      ]
    },
    {
      "cell_type": "markdown",
      "metadata": {
        "id": "doYBjzv04rmU",
        "colab_type": "text"
      },
      "source": [
        "**ตัวอย่างใช้ count**"
      ]
    },
    {
      "cell_type": "code",
      "metadata": {
        "id": "0LyAJJm3cc8Z",
        "colab_type": "code",
        "colab": {}
      },
      "source": [
        "conn = sqlite3.connect('test.db')\n",
        "\n",
        "cursor = conn.execute(\"SELECT * FROM COMPANY GROUP BY name HAVING count(name) < 2\")\n",
        "rows, column_names = get_data(cursor)\n",
        "\n",
        "conn.close()\n",
        "print(\"Operation done successfully\")\n",
        "show_data(rows, column_names)"
      ],
      "execution_count": 0,
      "outputs": []
    },
    {
      "cell_type": "markdown",
      "metadata": {
        "id": "e4O4lTkm4vyY",
        "colab_type": "text"
      },
      "source": [
        "**ตัวอย่างใช้ count**"
      ]
    },
    {
      "cell_type": "code",
      "metadata": {
        "id": "txW5OxdLcrgW",
        "colab_type": "code",
        "colab": {}
      },
      "source": [
        "conn = sqlite3.connect('test.db')\n",
        "\n",
        "cursor = conn.execute(\"SELECT * FROM COMPANY GROUP BY name HAVING count(name) > 2\")\n",
        "rows, column_names = get_data(cursor)\n",
        "\n",
        "conn.close()\n",
        "print(\"Operation done successfully\")\n",
        "show_data(rows, column_names)"
      ],
      "execution_count": 0,
      "outputs": []
    },
    {
      "cell_type": "markdown",
      "metadata": {
        "id": "7kU9-RFpc336",
        "colab_type": "text"
      },
      "source": [
        "# JOIN\n",
        "\n",
        "\n",
        "---\n",
        "\n"
      ]
    },
    {
      "cell_type": "markdown",
      "metadata": {
        "id": "XBG-E_vPdOT8",
        "colab_type": "text"
      },
      "source": [
        "## สร้าง Table ขึ้นมาใหม่"
      ]
    },
    {
      "cell_type": "code",
      "metadata": {
        "id": "AnWG5BYbc5uK",
        "colab_type": "code",
        "colab": {}
      },
      "source": [
        "conn = sqlite3.connect('test.db')\n",
        "\n",
        "with conn:\n",
        "  conn.execute('''CREATE TABLE DEPARTMENT(\n",
        "   ID INT PRIMARY KEY      NOT NULL,\n",
        "   DEPT           CHAR(50) NOT NULL,\n",
        "   EMP_ID         INT      NOT NULL\n",
        "  );''')\n",
        "\n",
        "conn.close()\n",
        "print(\"Table created successfully\")"
      ],
      "execution_count": 0,
      "outputs": []
    },
    {
      "cell_type": "markdown",
      "metadata": {
        "id": "bEUK6tijd-jo",
        "colab_type": "text"
      },
      "source": [
        "## เพิ่ม Record ใหม่ลงไป"
      ]
    },
    {
      "cell_type": "code",
      "metadata": {
        "id": "fUas5-mNeET9",
        "colab_type": "code",
        "colab": {}
      },
      "source": [
        "conn = sqlite3.connect('test.db')\n",
        "\n",
        "with conn:\n",
        "  conn.execute(\"INSERT INTO DEPARTMENT (ID, DEPT, EMP_ID) \\\n",
        "  VALUES (1, 'IT Billing', 1 )\")\n",
        "\n",
        "  conn.execute(\"INSERT INTO DEPARTMENT (ID, DEPT, EMP_ID) \\\n",
        "  VALUES (2, 'Engineering', 2 )\")\n",
        "\n",
        "  conn.execute(\"INSERT INTO DEPARTMENT (ID, DEPT, EMP_ID) \\\n",
        "  VALUES (3, 'Finance', 7 )\")\n",
        "\n",
        "conn.close()\n",
        "print(\"Records created successfully\")"
      ],
      "execution_count": 0,
      "outputs": []
    },
    {
      "cell_type": "markdown",
      "metadata": {
        "id": "aHqqse_pgXyR",
        "colab_type": "text"
      },
      "source": [
        "## ลองแสดงข้อมูลอง DEPARTMENT"
      ]
    },
    {
      "cell_type": "code",
      "metadata": {
        "id": "8cCMDwDUgftX",
        "colab_type": "code",
        "colab": {}
      },
      "source": [
        "conn = sqlite3.connect('test.db')\n",
        "\n",
        "cursor = conn.execute(\"SELECT id, DEPT, EMP_ID from DEPARTMENT\")\n",
        "rows, column_names = get_data(cursor)\n",
        "\n",
        "conn.close()\n",
        "print(\"Operation done successfully\")\n",
        "show_data(rows, column_names)"
      ],
      "execution_count": 0,
      "outputs": []
    },
    {
      "cell_type": "markdown",
      "metadata": {
        "id": "HK12Cjw8oO9d",
        "colab_type": "text"
      },
      "source": [
        "## Cross Join"
      ]
    },
    {
      "cell_type": "code",
      "metadata": {
        "id": "G620MLkRn7e9",
        "colab_type": "code",
        "colab": {}
      },
      "source": [
        "conn = sqlite3.connect('test.db')\n",
        "\n",
        "cursor = conn.execute(\"SELECT EMP_ID, NAME, DEPT FROM COMPANY CROSS JOIN DEPARTMENT\")\n",
        "rows, column_names = get_data(cursor)\n",
        "\n",
        "print(\"Operation done successfully\")\n",
        "conn.close()\n",
        "show_data(rows, column_names)"
      ],
      "execution_count": 0,
      "outputs": []
    },
    {
      "cell_type": "markdown",
      "metadata": {
        "id": "4ELH00I-oXIF",
        "colab_type": "text"
      },
      "source": [
        "## Inner Join"
      ]
    },
    {
      "cell_type": "code",
      "metadata": {
        "id": "Tci9bFdfoYuI",
        "colab_type": "code",
        "colab": {}
      },
      "source": [
        "conn = sqlite3.connect('test.db')\n",
        "\n",
        "cursor = conn.execute(\"SELECT EMP_ID, NAME, DEPT FROM COMPANY INNER JOIN DEPARTMENT \\\n",
        "   ON COMPANY.ID = DEPARTMENT.EMP_ID\")\n",
        "rows, column_names = get_data(cursor)\n",
        "\n",
        "conn.close()\n",
        "print(\"Operation done successfully\")\n",
        "show_data(rows, column_names)"
      ],
      "execution_count": 0,
      "outputs": []
    },
    {
      "cell_type": "markdown",
      "metadata": {
        "id": "xOSLdnHxo6Ww",
        "colab_type": "text"
      },
      "source": [
        "## Outer Join"
      ]
    },
    {
      "cell_type": "code",
      "metadata": {
        "id": "hunRs10Bof7w",
        "colab_type": "code",
        "colab": {}
      },
      "source": [
        "conn = sqlite3.connect('test.db')\n",
        "\n",
        "cursor = conn.execute(\"SELECT EMP_ID, NAME, DEPT FROM COMPANY LEFT OUTER JOIN DEPARTMENT \\\n",
        "   ON COMPANY.ID = DEPARTMENT.EMP_ID\")\n",
        "rows, column_names = get_data(cursor)\n",
        "\n",
        "conn.close()\n",
        "print(\"Operation done successfully\")\n",
        "show_data(rows, column_names)"
      ],
      "execution_count": 0,
      "outputs": []
    },
    {
      "cell_type": "markdown",
      "metadata": {
        "id": "y7D_JLaKrq1e",
        "colab_type": "text"
      },
      "source": [
        "# UNION"
      ]
    },
    {
      "cell_type": "markdown",
      "metadata": {
        "id": "BRce76Gs1cv1",
        "colab_type": "text"
      },
      "source": [
        "**ลองดูข้อมูลจาก COMPANY**"
      ]
    },
    {
      "cell_type": "code",
      "metadata": {
        "id": "M_Pe7bBVt9OT",
        "colab_type": "code",
        "colab": {}
      },
      "source": [
        "conn = sqlite3.connect('test.db')\n",
        "\n",
        "cursor = conn.execute(\"select * from COMPANY\")\n",
        "rows, column_names = get_data(cursor)\n",
        "\n",
        "conn.close()\n",
        "print(\"Operation done successfully\")\n",
        "show_data(rows, column_names)\n"
      ],
      "execution_count": 0,
      "outputs": []
    },
    {
      "cell_type": "markdown",
      "metadata": {
        "id": "ePdS7MUl1vkf",
        "colab_type": "text"
      },
      "source": [
        "**ลองดูข้อมูลใน DEPARTMENT**"
      ]
    },
    {
      "cell_type": "code",
      "metadata": {
        "id": "fAJGxhMTt-m2",
        "colab_type": "code",
        "colab": {}
      },
      "source": [
        "conn = sqlite3.connect('test.db')\n",
        "\n",
        "cursor = conn.execute(\"select * from DEPARTMENT\")\n",
        "rows, column_names = get_data(cursor)\n",
        "\n",
        "conn.close()\n",
        "print(\"Operation done successfully\")\n",
        "show_data(rows, column_names)\n"
      ],
      "execution_count": 0,
      "outputs": []
    },
    {
      "cell_type": "markdown",
      "metadata": {
        "id": "oPCIkTvo5AW1",
        "colab_type": "text"
      },
      "source": [
        "## ตัวอย่างใช้ UNION"
      ]
    },
    {
      "cell_type": "code",
      "metadata": {
        "id": "0DAZ3rzVrsTN",
        "colab_type": "code",
        "colab": {}
      },
      "source": [
        "conn = sqlite3.connect('test.db')\n",
        "\n",
        "cursor = conn.execute('''SELECT EMP_ID, NAME, DEPT FROM COMPANY INNER JOIN DEPARTMENT\n",
        "         ON COMPANY.ID = DEPARTMENT.EMP_ID\n",
        "         \n",
        "         UNION\n",
        "         \n",
        "         SELECT EMP_ID, NAME, DEPT FROM COMPANY LEFT OUTER JOIN DEPARTMENT\n",
        "         ON COMPANY.ID = DEPARTMENT.EMP_ID''')\n",
        "\n",
        "rows, column_names = get_data(cursor)\n",
        "\n",
        "conn.close()\n",
        "print(\"Operation done successfully\")\n",
        "show_data(rows, column_names)"
      ],
      "execution_count": 0,
      "outputs": []
    },
    {
      "cell_type": "markdown",
      "metadata": {
        "id": "ZXyCIMptsDZp",
        "colab_type": "text"
      },
      "source": [
        "## ตัวอย่างใช้ UNION ALL "
      ]
    },
    {
      "cell_type": "code",
      "metadata": {
        "id": "eKMJct2QsE7Q",
        "colab_type": "code",
        "colab": {}
      },
      "source": [
        "conn = sqlite3.connect('test.db')\n",
        "\n",
        "cursor = conn.execute('''SELECT EMP_ID, NAME, DEPT FROM COMPANY INNER JOIN DEPARTMENT\n",
        "         ON COMPANY.ID = DEPARTMENT.EMP_ID\n",
        "         \n",
        "         UNION ALL\n",
        "\n",
        "         SELECT EMP_ID, NAME, DEPT FROM COMPANY LEFT OUTER JOIN DEPARTMENT\n",
        "         ON COMPANY.ID = DEPARTMENT.EMP_ID;''')\n",
        "\n",
        "rows, column_names = get_data(cursor)\n",
        "\n",
        "conn.close()\n",
        "print(\"Operation done successfully\")\n",
        "show_data(rows, column_names)"
      ],
      "execution_count": 0,
      "outputs": []
    },
    {
      "cell_type": "markdown",
      "metadata": {
        "id": "epXYvMH1YV4S",
        "colab_type": "text"
      },
      "source": [
        "# ใช้ ALIAS อ้างอิง Table หรือคอลัมน์เสียใหม่"
      ]
    },
    {
      "cell_type": "markdown",
      "metadata": {
        "id": "OtKsTp_eZmvA",
        "colab_type": "text"
      },
      "source": [
        "## ตัวอย่างต้งชื่ออ้างอิง Tale"
      ]
    },
    {
      "cell_type": "code",
      "metadata": {
        "id": "rIfnGqLCYfQQ",
        "colab_type": "code",
        "colab": {}
      },
      "source": [
        "conn = sqlite3.connect('test.db')\n",
        "\n",
        "cursor = conn.execute('''SELECT C.ID, C.NAME, C.AGE, D.DEPT\n",
        "                FROM COMPANY AS C, DEPARTMENT AS D\n",
        "                WHERE  C.ID = D.EMP_ID''')\n",
        "rows, column_names = get_data(cursor)\n",
        "\n",
        "conn.close()\n",
        "print(\"Operation done successfully\")\n",
        "show_data(rows, column_names)\n"
      ],
      "execution_count": 0,
      "outputs": []
    },
    {
      "cell_type": "markdown",
      "metadata": {
        "id": "_cYIX6aqZrMF",
        "colab_type": "text"
      },
      "source": [
        "## ตัวอย่างต้งชื่ออ้างอิงคอลัมน์"
      ]
    },
    {
      "cell_type": "code",
      "metadata": {
        "id": "vK1vuliPZ7rR",
        "colab_type": "code",
        "colab": {}
      },
      "source": [
        "conn = sqlite3.connect('test.db')\n",
        "\n",
        "cursor = conn.execute('''SELECT C.ID AS COMPANY_ID, C.NAME AS COMPANY_NAME, C.AGE, D.DEPT\n",
        "                          FROM COMPANY AS C, DEPARTMENT AS D\n",
        "                          WHERE  C.ID = D.EMP_ID''')\n",
        "rows, column_names = get_data(cursor)\n",
        "\n",
        "conn.close()\n",
        "print(\"Operation done successfully\")\n",
        "show_data(rows, column_names)"
      ],
      "execution_count": 0,
      "outputs": []
    },
    {
      "cell_type": "markdown",
      "metadata": {
        "id": "zRBgumDGitxx",
        "colab_type": "text"
      },
      "source": [
        "# คิวรี่ย่อย (Subqueries)"
      ]
    },
    {
      "cell_type": "markdown",
      "metadata": {
        "id": "z050GGFyjPrN",
        "colab_type": "text"
      },
      "source": [
        "## ตัวอย่างประโยค SELECT กับคิวรี่ย่อย"
      ]
    },
    {
      "cell_type": "code",
      "metadata": {
        "id": "nMKgyPjgi1LB",
        "colab_type": "code",
        "colab": {}
      },
      "source": [
        "conn = sqlite3.connect('test.db')\n",
        "\n",
        "cursor = conn.execute('''SELECT * \n",
        "   FROM COMPANY \n",
        "   WHERE ID IN (SELECT ID \n",
        "      FROM COMPANY \n",
        "      WHERE SALARY > 45000)''')\n",
        "rows, column_names = get_data(cursor)\n",
        "\n",
        "conn.close()\n",
        "print(\"Operation done successfully\")\n",
        "show_data(rows, column_names)"
      ],
      "execution_count": 0,
      "outputs": []
    },
    {
      "cell_type": "markdown",
      "metadata": {
        "id": "Vc3hZqVJkDTv",
        "colab_type": "text"
      },
      "source": [
        "## ตัวอย่างประโยค INSERT กับคิวรี่ย่อย"
      ]
    },
    {
      "cell_type": "markdown",
      "metadata": {
        "id": "yzLGe-OpmYNI",
        "colab_type": "text"
      },
      "source": [
        "**สร้างอีก Table หนึ่งชื่อ COMPANY_BKP**"
      ]
    },
    {
      "cell_type": "code",
      "metadata": {
        "id": "aU03kWcNmPMx",
        "colab_type": "code",
        "colab": {}
      },
      "source": [
        "conn = sqlite3.connect('test.db')\n",
        "\n",
        "with conn:\n",
        "  conn.execute('''CREATE TABLE COMPANY_BKP\n",
        "         (ID INT PRIMARY KEY     NOT NULL,\n",
        "         NAME           TEXT    NOT NULL,\n",
        "         AGE            INT     NOT NULL,\n",
        "         ADDRESS        CHAR(50),\n",
        "         SALARY         REAL)''')\n",
        "\n",
        "conn.close()\n",
        "print(\"Table created successfully\")"
      ],
      "execution_count": 0,
      "outputs": []
    },
    {
      "cell_type": "markdown",
      "metadata": {
        "id": "xIrbEKktmYF5",
        "colab_type": "text"
      },
      "source": [
        "**ใช้ INSERT กับคิวรี่ย่อย**"
      ]
    },
    {
      "cell_type": "code",
      "metadata": {
        "id": "LBuiUrWFkH0P",
        "colab_type": "code",
        "colab": {}
      },
      "source": [
        "conn = sqlite3.connect('test.db')\n",
        "\n",
        "with conn:\n",
        "  cursor = conn.execute('''INSERT INTO COMPANY_BKP\n",
        "   SELECT * FROM COMPANY \n",
        "   WHERE ID IN (SELECT ID \n",
        "      FROM COMPANY)''')\n",
        "\n",
        "conn.close()\n",
        "print(\"Records created successfully\")"
      ],
      "execution_count": 0,
      "outputs": []
    },
    {
      "cell_type": "markdown",
      "metadata": {
        "id": "WfcHmXuKmnrV",
        "colab_type": "text"
      },
      "source": [
        "**แสดงข้อมูลใน COMPANY_BKP ออกมาดู**"
      ]
    },
    {
      "cell_type": "code",
      "metadata": {
        "id": "ntx2pN7KkHx6",
        "colab_type": "code",
        "colab": {}
      },
      "source": [
        "conn = sqlite3.connect('test.db')\n",
        "\n",
        "cursor = conn.execute(\"SELECT * FROM COMPANY_BKP\")\n",
        "rows, column_names = get_data(cursor)\n",
        "\n",
        "conn.close()\n",
        "print(\"Operation done successfully\")\n",
        "show_data(rows, column_names)"
      ],
      "execution_count": 0,
      "outputs": []
    },
    {
      "cell_type": "markdown",
      "metadata": {
        "id": "rRkcm8nGn4-x",
        "colab_type": "text"
      },
      "source": [
        "## ตัวอย่างประโยค UPDATE กับคิวรี่ย่อย"
      ]
    },
    {
      "cell_type": "markdown",
      "metadata": {
        "id": "tom9QDlUoU5G",
        "colab_type": "text"
      },
      "source": [
        "**ใช้ UPDATE กับคิวรี่ย่อย**"
      ]
    },
    {
      "cell_type": "code",
      "metadata": {
        "id": "9l534iIQkHu3",
        "colab_type": "code",
        "colab": {}
      },
      "source": [
        "conn = sqlite3.connect('test.db')\n",
        "\n",
        "with conn:\n",
        "  cursor = conn.execute('''UPDATE COMPANY\n",
        "   SET SALARY = SALARY * 0.50\n",
        "   WHERE AGE IN (SELECT AGE FROM COMPANY_BKP\n",
        "      WHERE AGE >= 27 )''')\n",
        "\n",
        "conn.close()\n",
        "print(\"Records created successfully\")\n"
      ],
      "execution_count": 0,
      "outputs": []
    },
    {
      "cell_type": "markdown",
      "metadata": {
        "id": "AEGTQif1oPOI",
        "colab_type": "text"
      },
      "source": [
        "**ลองคิวรี่ข้อมูลจาก COMPANY**"
      ]
    },
    {
      "cell_type": "code",
      "metadata": {
        "id": "FQIem5uqoFD5",
        "colab_type": "code",
        "colab": {}
      },
      "source": [
        "conn = sqlite3.connect('test.db')\n",
        "\n",
        "cursor = conn.execute(\"SELECT * FROM COMPANY\")\n",
        "rows, column_names = get_data(cursor)\n",
        "\n",
        "conn.close()\n",
        "print(\"Operation done successfully\")\n",
        "show_data(rows, column_names)"
      ],
      "execution_count": 0,
      "outputs": []
    },
    {
      "cell_type": "markdown",
      "metadata": {
        "id": "Bpjfr0lZohOF",
        "colab_type": "text"
      },
      "source": [
        "## ตัวอย่างประโยค DELETE กับคิวรี่่ย่อย"
      ]
    },
    {
      "cell_type": "markdown",
      "metadata": {
        "id": "rO2GR-C3o0GT",
        "colab_type": "text"
      },
      "source": [
        "**ใช้ประโยค DELETE กับคิวรี่่ย่อย**"
      ]
    },
    {
      "cell_type": "code",
      "metadata": {
        "id": "GPK0Yt-Fomh7",
        "colab_type": "code",
        "colab": {}
      },
      "source": [
        "conn = sqlite3.connect('test.db')\n",
        "\n",
        "with conn:\n",
        "  cursor = conn.execute('''DELETE FROM COMPANY\n",
        "   WHERE AGE IN (SELECT AGE FROM COMPANY_BKP\n",
        "   WHERE AGE > 27 )''')\n",
        "\n",
        "conn.close()\n",
        "print(\"Records created successfully\")"
      ],
      "execution_count": 0,
      "outputs": []
    },
    {
      "cell_type": "markdown",
      "metadata": {
        "id": "dpM17X5DpC0p",
        "colab_type": "text"
      },
      "source": [
        "**ลองคิวรี่ข้อมูลจาก COMPANY**"
      ]
    },
    {
      "cell_type": "code",
      "metadata": {
        "id": "sZJCxrTGo8mC",
        "colab_type": "code",
        "colab": {}
      },
      "source": [
        "conn = sqlite3.connect('test.db')\n",
        "\n",
        "cursor = conn.execute(\"SELECT * FROM COMPANY\")\n",
        "rows, column_names = get_data(cursor)\n",
        "\n",
        "conn.close()\n",
        "print(\"Operation done successfully\")\n",
        "show_data(rows, column_names)"
      ],
      "execution_count": 0,
      "outputs": []
    },
    {
      "cell_type": "markdown",
      "metadata": {
        "id": "5YEQf2_0yzmE",
        "colab_type": "text"
      },
      "source": [
        "# Indexes"
      ]
    },
    {
      "cell_type": "markdown",
      "metadata": {
        "id": "1sKxmpHZzPNm",
        "colab_type": "text"
      },
      "source": [
        "## ตัวอย่างสร้าง Index"
      ]
    },
    {
      "cell_type": "code",
      "metadata": {
        "id": "Jx1JSYLmy7C9",
        "colab_type": "code",
        "colab": {}
      },
      "source": [
        "conn = sqlite3.connect('test.db')\n",
        "\n",
        "with conn:\n",
        "  cursor = conn.execute(\"CREATE INDEX salary_index ON COMPANY (salary)\")\n",
        "\n",
        "conn.close()\n",
        "print(\"Operation done successfully\")"
      ],
      "execution_count": 0,
      "outputs": []
    },
    {
      "cell_type": "markdown",
      "metadata": {
        "id": "8LOX_onZzRq6",
        "colab_type": "text"
      },
      "source": [
        "## ตัวอย่างค้นหา Index"
      ]
    },
    {
      "cell_type": "code",
      "metadata": {
        "id": "VoY4H5bizFdX",
        "colab_type": "code",
        "colab": {}
      },
      "source": [
        "conn = sqlite3.connect('test.db')\n",
        "\n",
        "cursor = conn.execute(\"SELECT * FROM sqlite_master WHERE type = 'index'\")\n",
        "rows, column_names = get_data(cursor)\n",
        "\n",
        "conn.close()\n",
        "print(\"Operation done successfully\")\n",
        "show_data(rows, column_names)"
      ],
      "execution_count": 0,
      "outputs": []
    },
    {
      "cell_type": "markdown",
      "metadata": {
        "id": "liFU245-_I32",
        "colab_type": "text"
      },
      "source": [
        "## ใช้ SELECT ร่วมกับ index"
      ]
    },
    {
      "cell_type": "code",
      "metadata": {
        "id": "0a7ygWQk_Hj5",
        "colab_type": "code",
        "colab": {}
      },
      "source": [
        "conn = sqlite3.connect('test.db')\n",
        "\n",
        "cursor = conn.execute(\"SELECT * FROM COMPANY INDEXED BY salary_index WHERE salary > 5000\")\n",
        "rows, column_names = get_data(cursor)\n",
        "\n",
        "conn.close()\n",
        "print(\"Operation done successfully\")\n",
        "show_data(rows, column_names)"
      ],
      "execution_count": 0,
      "outputs": []
    },
    {
      "cell_type": "markdown",
      "metadata": {
        "id": "jdLuNiomzaNi",
        "colab_type": "text"
      },
      "source": [
        "## ลบ Index"
      ]
    },
    {
      "cell_type": "code",
      "metadata": {
        "id": "6bxNrxgfzLub",
        "colab_type": "code",
        "colab": {}
      },
      "source": [
        "conn = sqlite3.connect('test.db')\n",
        "\n",
        "with conn:\n",
        "  cursor = conn.execute(\"DROP INDEX salary_index\")\n",
        "\n",
        "conn.close()\n",
        "print(\"Operation done successfully\")"
      ],
      "execution_count": 0,
      "outputs": []
    },
    {
      "cell_type": "markdown",
      "metadata": {
        "id": "xTXJyPrwQC9H",
        "colab_type": "text"
      },
      "source": [
        "# Views"
      ]
    },
    {
      "cell_type": "markdown",
      "metadata": {
        "id": "TS3-9l4eUM9I",
        "colab_type": "text"
      },
      "source": [
        "**ตัวอย่างสร้าง View**"
      ]
    },
    {
      "cell_type": "code",
      "metadata": {
        "id": "NV3RwlTgQJxJ",
        "colab_type": "code",
        "colab": {}
      },
      "source": [
        "conn = sqlite3.connect('test.db')\n",
        "\n",
        "with conn:\n",
        "  conn.execute('''CREATE VIEW COMPANY_VIEW AS\n",
        "                SELECT ID, NAME, AGE\n",
        "                FROM  COMPANY;''')\n",
        "\n",
        "conn.close()\n",
        "print(\"View created successfully\")\n"
      ],
      "execution_count": 0,
      "outputs": []
    },
    {
      "cell_type": "markdown",
      "metadata": {
        "id": "9_BEjXHUUIh2",
        "colab_type": "text"
      },
      "source": [
        "**ตัวอย่างแสดง View**"
      ]
    },
    {
      "cell_type": "code",
      "metadata": {
        "id": "SWtbQ1SIT94v",
        "colab_type": "code",
        "colab": {}
      },
      "source": [
        "conn = sqlite3.connect('test.db')\n",
        "\n",
        "cursor = conn.execute(\"SELECT * FROM COMPANY_VIEW\")\n",
        "rows, column_names = get_data(cursor)\n",
        "\n",
        "conn.close()\n",
        "print(\"Operation done successfully\")\n",
        "show_data(rows, column_names)\n"
      ],
      "execution_count": 0,
      "outputs": []
    },
    {
      "cell_type": "markdown",
      "metadata": {
        "id": "pTEXezqLUlYe",
        "colab_type": "text"
      },
      "source": [
        "**ตัวอย่างลบ View**"
      ]
    },
    {
      "cell_type": "code",
      "metadata": {
        "colab_type": "code",
        "id": "Y0OMu_NRUYuF",
        "colab": {}
      },
      "source": [
        "conn = sqlite3.connect('test.db')\n",
        "\n",
        "with conn:\n",
        "  cursor = conn.execute(\"DROP VIEW COMPANY_VIEW\")\n",
        "\n",
        "conn.close()\n",
        "print(\"Operation done successfully\")"
      ],
      "execution_count": 0,
      "outputs": []
    },
    {
      "cell_type": "markdown",
      "metadata": {
        "id": "R88U6H2XC1hW",
        "colab_type": "text"
      },
      "source": [
        "# ฟังก์ชัน (รองรับ SQLite)"
      ]
    },
    {
      "cell_type": "markdown",
      "metadata": {
        "id": "nnBoRlmkVZ_5",
        "colab_type": "text"
      },
      "source": [
        "ฟังก์ชัน count จะนับจำนวนแถวของ Table"
      ]
    },
    {
      "cell_type": "code",
      "metadata": {
        "id": "vwW4HpcQC-4b",
        "colab_type": "code",
        "colab": {}
      },
      "source": [
        "conn = sqlite3.connect('test.db')\n",
        "\n",
        "cursor = conn.execute(\"SELECT count(*) FROM COMPANY\")\n",
        "rows, column_names = get_data(cursor)\n",
        "\n",
        "conn.close()\n",
        "print(\"Operation done successfully\")\n",
        "show_data(rows, column_names)"
      ],
      "execution_count": 0,
      "outputs": []
    },
    {
      "cell_type": "markdown",
      "metadata": {
        "id": "wrjW-g0BVP-t",
        "colab_type": "text"
      },
      "source": [
        "**ฟังก์ชัน max ให้ค่ามากสุดของคอลัมน์นั้น**"
      ]
    },
    {
      "cell_type": "code",
      "metadata": {
        "id": "K2vGgJP4DDxn",
        "colab_type": "code",
        "colab": {}
      },
      "source": [
        "conn = sqlite3.connect('test.db')\n",
        "\n",
        "cursor = conn.execute(\"SELECT max(salary) FROM COMPANY\")\n",
        "rows, column_names = get_data(cursor)\n",
        "\n",
        "conn.close()\n",
        "print(\"Operation done successfully\")\n",
        "show_data(rows, column_names)"
      ],
      "execution_count": 0,
      "outputs": []
    },
    {
      "cell_type": "markdown",
      "metadata": {
        "id": "2Cx4RrBSUMwC",
        "colab_type": "text"
      },
      "source": [
        "**ฟังก์ชัน min จะให้ค่าต่ำสุดของคอลัมน์นั้น**"
      ]
    },
    {
      "cell_type": "code",
      "metadata": {
        "id": "8shC26PINzkK",
        "colab_type": "code",
        "colab": {}
      },
      "source": [
        "conn = sqlite3.connect('test.db')\n",
        "\n",
        "cursor = conn.execute(\"SELECT min(salary) FROM COMPANY\")\n",
        "rows, column_names = get_data(cursor)\n",
        "\n",
        "conn.close()\n",
        "print(\"Operation done successfully\")\n",
        "show_data(rows, column_names) "
      ],
      "execution_count": 0,
      "outputs": []
    },
    {
      "cell_type": "markdown",
      "metadata": {
        "id": "vdTUFQ0oUGpQ",
        "colab_type": "text"
      },
      "source": [
        "**ฟังก์ชัน avg จะให้ค่าเฉลี่ยของคอลัมน์นั้น**"
      ]
    },
    {
      "cell_type": "code",
      "metadata": {
        "id": "oPDx22-hN7gs",
        "colab_type": "code",
        "colab": {}
      },
      "source": [
        "conn = sqlite3.connect('test.db')\n",
        "\n",
        "cursor = conn.execute(\"SELECT avg(salary) FROM COMPANY\")\n",
        "rows, column_names = get_data(cursor)\n",
        "\n",
        "conn.close()\n",
        "print(\"Operation done successfully\")\n",
        "show_data(rows, column_names) "
      ],
      "execution_count": 0,
      "outputs": []
    },
    {
      "cell_type": "markdown",
      "metadata": {
        "id": "w1R9XM1QT77K",
        "colab_type": "text"
      },
      "source": [
        "**ฟังก์ชัน sum จะให้ผลรวมของคอลัมน์นั้นๆ**"
      ]
    },
    {
      "cell_type": "code",
      "metadata": {
        "id": "zL-3sGbGN-ii",
        "colab_type": "code",
        "colab": {}
      },
      "source": [
        "conn = sqlite3.connect('test.db')\n",
        "\n",
        "cursor = conn.execute(\"SELECT sum(salary) FROM COMPANY\")\n",
        "rows, column_names = get_data(cursor)\n",
        "\n",
        "conn.close()\n",
        "print(\"Operation done successfully\")\n",
        "show_data(rows, column_names) "
      ],
      "execution_count": 0,
      "outputs": []
    },
    {
      "cell_type": "markdown",
      "metadata": {
        "id": "FCGEuh5qTrO9",
        "colab_type": "text"
      },
      "source": [
        "**ฟังก์ชัน random จะให้ค่าจำนวเต็มระหว่าง -9223372036854775808 กับ +9223372036854775807**"
      ]
    },
    {
      "cell_type": "code",
      "metadata": {
        "id": "iZJB3JbsOG6c",
        "colab_type": "code",
        "colab": {}
      },
      "source": [
        "conn = sqlite3.connect('test.db')\n",
        "\n",
        "cursor = conn.execute(\"SELECT random() AS Random\")\n",
        "rows, column_names = get_data(cursor)\n",
        "\n",
        "conn.close()\n",
        "print(\"Operation done successfully\")\n",
        "show_data(rows, column_names) "
      ],
      "execution_count": 0,
      "outputs": []
    },
    {
      "cell_type": "markdown",
      "metadata": {
        "id": "vGsC8ZN8S-KJ",
        "colab_type": "text"
      },
      "source": [
        "**ฟังก์ชัน abs จะให้ค่า absolute**"
      ]
    },
    {
      "cell_type": "code",
      "metadata": {
        "id": "ANm0DnJqOG3L",
        "colab_type": "code",
        "colab": {}
      },
      "source": [
        "conn = sqlite3.connect('test.db')\n",
        "\n",
        "cursor = conn.execute(\"SELECT abs(5), abs(-15), abs(NULL), abs(0), abs('ABC')\")\n",
        "rows, column_names = get_data(cursor)\n",
        "\n",
        "conn.close()\n",
        "print(\"Operation done successfully\")\n",
        "show_data(rows, column_names) "
      ],
      "execution_count": 0,
      "outputs": []
    },
    {
      "cell_type": "markdown",
      "metadata": {
        "id": "Dx619Yh2Sxbu",
        "colab_type": "text"
      },
      "source": [
        "**ฟังก์ชัน upper จะแปลงสตริงเป็นตัวใหญ่ให้หมด**"
      ]
    },
    {
      "cell_type": "code",
      "metadata": {
        "id": "SxnJ_YyVOQ0N",
        "colab_type": "code",
        "colab": {}
      },
      "source": [
        "conn = sqlite3.connect('test.db')\n",
        "\n",
        "cursor = conn.execute(\"SELECT upper(name) FROM COMPANY\")\n",
        "rows, column_names = get_data(cursor)\n",
        "\n",
        "conn.close()\n",
        "print(\"Operation done successfully\")\n",
        "show_data(rows, column_names) "
      ],
      "execution_count": 0,
      "outputs": []
    },
    {
      "cell_type": "markdown",
      "metadata": {
        "id": "nqgTWosNSe4i",
        "colab_type": "text"
      },
      "source": [
        "**ฟังก์ชัน lower จะแปลงสตริงเป็นตัวเล็กให้หมด**"
      ]
    },
    {
      "cell_type": "code",
      "metadata": {
        "id": "fJBLLpGIOWbO",
        "colab_type": "code",
        "colab": {}
      },
      "source": [
        "conn = sqlite3.connect('test.db')\n",
        "\n",
        "cursor = conn.execute(\"SELECT lower(name) FROM COMPANY\")\n",
        "rows, column_names = get_data(cursor)\n",
        "\n",
        "conn.close()\n",
        "print(\"Operation done successfully\")\n",
        "show_data(rows, column_names) "
      ],
      "execution_count": 0,
      "outputs": []
    },
    {
      "cell_type": "markdown",
      "metadata": {
        "id": "dYCcqIaQSC6t",
        "colab_type": "text"
      },
      "source": [
        "**ฟังก์ชัน length เอาไว้นับความยาวสตริง**  "
      ]
    },
    {
      "cell_type": "code",
      "metadata": {
        "id": "GHrzx0sVOaVB",
        "colab_type": "code",
        "colab": {}
      },
      "source": [
        "conn = sqlite3.connect('test.db')\n",
        "\n",
        "cursor = conn.execute(\"SELECT name, length(name) FROM COMPANY\")\n",
        "rows, column_names = get_data(cursor)\n",
        "\n",
        "conn.close()\n",
        "print(\"Operation done successfully\")\n",
        "show_data(rows, column_names) "
      ],
      "execution_count": 0,
      "outputs": []
    },
    {
      "cell_type": "markdown",
      "metadata": {
        "id": "GMWTrgkEAHLR",
        "colab_type": "text"
      },
      "source": [
        "# อ้างอิง\n",
        "\n",
        "* https://www.w3schools.com/sql/sql_intro.asp\n",
        "* https://www.sqlite.org/index.html\n",
        "* https://docs.python.org/2/library/sqlite3.html\n",
        "* https://www.tutorialspoint.com/sqlite/sqlite_python.htm"
      ]
    },
    {
      "cell_type": "markdown",
      "metadata": {
        "id": "hcoEUAKB-5jG",
        "colab_type": "text"
      },
      "source": [
        "# ทิ้งท้าย"
      ]
    },
    {
      "cell_type": "code",
      "metadata": {
        "id": "i6eaaNE6AmqE",
        "colab_type": "code",
        "outputId": "d1f9bed6-0be4-489a-a841-076bfff12c8a",
        "cellView": "form",
        "colab": {
          "base_uri": "https://localhost:8080/",
          "height": 747
        }
      },
      "source": [
        "#@title สามารถดาวน์โหลดสรุปคำสั่ง SQL ได้ที่นี้\n",
        "\n",
        "%%HTML\n",
        "<iframe src=\"https://www.facebook.com/plugins/post.php?href=https%3A%2F%2Fwww.facebook.com%2Fprogrammerthai%2Fposts%2F2552667661689736&width=500\" width=\"500\" height=\"726\" style=\"border:none;overflow:hidden\" scrolling=\"no\" frameborder=\"0\" allowTransparency=\"true\" allow=\"encrypted-media\"></iframe>"
      ],
      "execution_count": 0,
      "outputs": [
        {
          "output_type": "display_data",
          "data": {
            "text/html": [
              "<iframe src=\"https://www.facebook.com/plugins/post.php?href=https%3A%2F%2Fwww.facebook.com%2Fprogrammerthai%2Fposts%2F2552667661689736&width=500\" width=\"500\" height=\"726\" style=\"border:none;overflow:hidden\" scrolling=\"no\" frameborder=\"0\" allowTransparency=\"true\" allow=\"encrypted-media\"></iframe>"
            ],
            "text/plain": [
              "<IPython.core.display.HTML object>"
            ]
          },
          "metadata": {
            "tags": []
          }
        }
      ]
    },
    {
      "cell_type": "markdown",
      "metadata": {
        "id": "3jSzdjQTWzUn",
        "colab_type": "text"
      },
      "source": [
        "# ฝากติดตาม\n",
        "<br>\n",
        "<img height=\"20px\" src=\"https://www.patanasongsivilai.com/blog/wp-content/uploads/2017/06/logo_facebook2.png\" align=\"left\" hspace=\"10px\" vspace=\"0px\"> <a href=\"https://www.facebook.com/programmerthai/\">https://www.facebook.com/programmerthai/</a>\n",
        "<br>\n",
        "<img height=\"14px\" src=\"https://www.patanasongsivilai.com/blog/wp-content/uploads/2019/03/youtube.png\" align=\"left\" hspace=\"10px\" vspace=\"3px\">  \n",
        "<a href=\"https://www.youtube.com/channel/UCvhCKtG5cRE6K5--RJPql_w\">https://www.youtube.com/channel/UCvhCKtG5cRE6K5--RJPql_w</a>"
      ]
    }
  ]
}